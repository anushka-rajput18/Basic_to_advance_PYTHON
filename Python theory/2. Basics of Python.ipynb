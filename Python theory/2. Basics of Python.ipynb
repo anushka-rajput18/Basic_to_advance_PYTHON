{
 "cells": [
  {
   "cell_type": "markdown",
   "id": "2e60be89",
   "metadata": {},
   "source": [
    "## First Python program"
   ]
  },
  {
   "cell_type": "code",
   "execution_count": 1,
   "id": "62cb391d",
   "metadata": {},
   "outputs": [
    {
     "name": "stdout",
     "output_type": "stream",
     "text": [
      "Hello World\n",
      "5\n",
      "Bye\n"
     ]
    }
   ],
   "source": [
    "print(\"Hello World\")\n",
    "print(5)\n",
    "print(\"Bye\")"
   ]
  },
  {
   "cell_type": "markdown",
   "id": "728105f4",
   "metadata": {},
   "source": [
    "## Escape Sequence Character"
   ]
  },
  {
   "cell_type": "code",
   "execution_count": 3,
   "id": "1f292f49",
   "metadata": {},
   "outputs": [
    {
     "name": "stdout",
     "output_type": "stream",
     "text": [
      "Hey i am a good girl \n",
      "and i am also very intelligent\n"
     ]
    }
   ],
   "source": [
    "# \\n = shift next sentence into nextline\n",
    "print(\"Hey i am a good girl \\nand i am also very intelligent\")"
   ]
  },
  {
   "cell_type": "code",
   "execution_count": 5,
   "id": "fb1c26ff",
   "metadata": {},
   "outputs": [
    {
     "name": "stdout",
     "output_type": "stream",
     "text": [
      "Hey i am a \"good girl\" and i am also very intelligent\n"
     ]
    }
   ],
   "source": [
    "# \\\" \\\" = double quote escape character\n",
    "print(\"Hey i am a \\\"good girl\\\" and i am also very intelligent\")"
   ]
  },
  {
   "cell_type": "markdown",
   "id": "ac1015f6",
   "metadata": {},
   "source": [
    "## Print Statement"
   ]
  },
  {
   "cell_type": "code",
   "execution_count": 6,
   "id": "2eb7bb85",
   "metadata": {},
   "outputs": [
    {
     "name": "stdout",
     "output_type": "stream",
     "text": [
      "Hey 6 7\n"
     ]
    }
   ],
   "source": [
    "print(\"Hey\", 6, 7)"
   ]
  },
  {
   "cell_type": "code",
   "execution_count": 7,
   "id": "3f6a0386",
   "metadata": {},
   "outputs": [
    {
     "name": "stdout",
     "output_type": "stream",
     "text": [
      "Hey~6~7\n"
     ]
    }
   ],
   "source": [
    "print(\"Hey\", 6, 7, sep=\"~\")"
   ]
  },
  {
   "cell_type": "code",
   "execution_count": 10,
   "id": "2869b942",
   "metadata": {},
   "outputs": [
    {
     "name": "stdout",
     "output_type": "stream",
     "text": [
      "Hey~6~7009Harry\n"
     ]
    }
   ],
   "source": [
    "print(\"Hey\", 6, 7, sep=\"~\", end = \"009\")\n",
    "print(\"Harry\")"
   ]
  },
  {
   "cell_type": "markdown",
   "id": "c57b5d05",
   "metadata": {},
   "source": [
    "## Datatype in python"
   ]
  },
  {
   "cell_type": "markdown",
   "id": "f465bbb4",
   "metadata": {},
   "source": [
    "##### Text Type : str \n",
    "##### Numeric Type : int, float, complex \n",
    "##### Sequence Type : list, tuple, range \n",
    "##### Mapping Type:\tdict \n",
    "##### Set Types:\tset, frozenset\n",
    "##### Boolean Type:\tbool\n",
    "##### Binary Types:\tbytes, bytearray, memoryview\n",
    "##### None Type:\tNoneType"
   ]
  },
  {
   "cell_type": "markdown",
   "id": "d546bc73",
   "metadata": {},
   "source": [
    "### TypeCasting\n",
    "The conversion of one data type into the other data type is known as type casting in python or type conversion in python.\n",
    "\n",
    "Python supports a wide variety of functions or methods like: int(), float(), str(), ord(), hex(), oct(), tuple(), set(), list(), dict(), etc. for the type casting in python."
   ]
  },
  {
   "cell_type": "code",
   "execution_count": 2,
   "id": "6f4cb90c",
   "metadata": {},
   "outputs": [
    {
     "name": "stdout",
     "output_type": "stream",
     "text": [
      "12\n",
      "AnushkaRajput\n"
     ]
    }
   ],
   "source": [
    "a = \"1\"\n",
    "b = \"2\"\n",
    "print(a+b)\n",
    "a = \"Anushka\"\n",
    "b = \"Rajput\"\n",
    "print(a+b)"
   ]
  },
  {
   "cell_type": "code",
   "execution_count": 3,
   "id": "60ccedc5",
   "metadata": {},
   "outputs": [
    {
     "name": "stdout",
     "output_type": "stream",
     "text": [
      "3\n"
     ]
    }
   ],
   "source": [
    "a = 1\n",
    "b = 2\n",
    "print(a+b)"
   ]
  },
  {
   "cell_type": "markdown",
   "id": "2ba6b817",
   "metadata": {},
   "source": [
    "### Two types of Typecasting:\n",
    "##### Explicit Conversion (Explicit type casting in python)\n",
    "The conversion of one data type into another data type, done via developer or programmer's intervention or manually as per the requirement, is known as explicit type conversion.\n",
    "\n",
    "It can be achieved with the help of Python’s built-in type conversion functions such as int(), float(), hex(), oct(), str(), etc ."
   ]
  },
  {
   "cell_type": "code",
   "execution_count": 5,
   "id": "12f3d275",
   "metadata": {},
   "outputs": [
    {
     "name": "stdout",
     "output_type": "stream",
     "text": [
      "3\n"
     ]
    }
   ],
   "source": [
    "a = \"1\"\n",
    "b = \"2\"\n",
    "print(int(a)+int(b))"
   ]
  },
  {
   "cell_type": "markdown",
   "id": "9e8b405e",
   "metadata": {},
   "source": [
    "##### Implicit Conversion (Implicit type casting in python)\n",
    "Data types in Python do not have the same level i.e. ordering of data types is not the same in Python. Some of the data types have higher-order, and some have lower order. While performing any operations on variables with different data types in Python, one of the variable's data types will be changed to the higher data type. According to the level, one data type is converted into other by the Python interpreter itself (automatically). This is called, implicit typecasting in python.\n",
    "\n",
    "Python converts a smaller data type to a higher data type to prevent data loss."
   ]
  },
  {
   "cell_type": "code",
   "execution_count": 1,
   "id": "de231b11",
   "metadata": {},
   "outputs": [
    {
     "name": "stdout",
     "output_type": "stream",
     "text": [
      "<class 'int'>\n",
      "<class 'float'>\n",
      "10.0\n",
      "<class 'float'>\n"
     ]
    }
   ],
   "source": [
    "# Python automatically converts\n",
    "# a to int\n",
    "a = 7\n",
    "print(type(a))\n",
    " \n",
    "# Python automatically converts b to float\n",
    "b = 3.0\n",
    "print(type(b))\n",
    " \n",
    "# Python automatically converts c to float as it is a float addition\n",
    "c = a + b\n",
    "print(c)\n",
    "print(type(c))"
   ]
  },
  {
   "cell_type": "markdown",
   "id": "c357ef09",
   "metadata": {},
   "source": [
    "## Taking User input in python"
   ]
  },
  {
   "cell_type": "code",
   "execution_count": 2,
   "id": "ba1eef6f",
   "metadata": {},
   "outputs": [
    {
     "name": "stdout",
     "output_type": "stream",
     "text": [
      "Enter your name: Anushka\n",
      "My name is Anushka\n"
     ]
    }
   ],
   "source": [
    " a = input(\"Enter your name: \")\n",
    "print(\"My name is\", a)"
   ]
  },
  {
   "cell_type": "markdown",
   "id": "df5907cf",
   "metadata": {},
   "source": [
    "## Strings"
   ]
  },
  {
   "cell_type": "code",
   "execution_count": 6,
   "id": "186d1402",
   "metadata": {},
   "outputs": [
    {
     "name": "stdout",
     "output_type": "stream",
     "text": [
      "Hello, Harry\n",
      "He said, \"I want to eat an apple\"\n",
      "He said, \"I want to eat an apple\"\n",
      "He said,\n",
      "Hey I am good\n",
      "Wanna have apple\n"
     ]
    }
   ],
   "source": [
    "name = \"Harry\"\n",
    "friend = \"Rohan\"\n",
    "anotherfrnd = 'Lavish'\n",
    "\n",
    "print(\"Hello, \"+name)\n",
    "\n",
    "#apple = \"He said \"I want to eat an apple\"\" This will generate error\n",
    "apple1 = 'He said, \"I want to eat an apple\"'\n",
    "apple2 = \"He said, \\\"I want to eat an apple\\\"\"\n",
    "print(apple1)\n",
    "print(apple2)\n",
    "\n",
    "#multiple lines string\n",
    "a = '''He said,\n",
    "Hey I am good\n",
    "Wanna have apple'''\n",
    "print(a)"
   ]
  },
  {
   "cell_type": "markdown",
   "id": "c7cdc960",
   "metadata": {},
   "source": [
    "## Indexing"
   ]
  },
  {
   "cell_type": "code",
   "execution_count": 12,
   "id": "c91283a2",
   "metadata": {},
   "outputs": [
    {
     "name": "stdout",
     "output_type": "stream",
     "text": [
      "r\n",
      "a\n",
      "j\n",
      "u\n",
      "u\n",
      "j\n",
      "a\n",
      "r\n",
      "Lets use a for loop\n",
      "\n",
      "r\n",
      "a\n",
      "j\n",
      "u\n"
     ]
    }
   ],
   "source": [
    "name = \"raju\" \n",
    "print(name[0])\n",
    "print(name[1])\n",
    "print(name[2])\n",
    "print(name[3])\n",
    "print(name[-1])\n",
    "print(name[-2])\n",
    "print(name[-3])\n",
    "print(name[-4])\n",
    "\n",
    "print(\"Lets use a for loop\\n\" )\n",
    "for character in name:\n",
    "    print(character)"
   ]
  },
  {
   "cell_type": "markdown",
   "id": "dd32072f",
   "metadata": {},
   "source": [
    "## Slicing "
   ]
  },
  {
   "cell_type": "code",
   "execution_count": 20,
   "id": "df917ba8",
   "metadata": {},
   "outputs": [
    {
     "name": "stdout",
     "output_type": "stream",
     "text": [
      "Anushka\n",
      "16\n",
      "Mang\n",
      "ang\n",
      "Mango\n",
      "Ma\n",
      "Ma\n"
     ]
    }
   ],
   "source": [
    "names = \"Anushka, Aradhya\"\n",
    "print(names[0:7])\n",
    "print(len(names))\n",
    "\n",
    "fruit = \"Mango\"\n",
    "print(fruit[:4])\n",
    "print(fruit[1:4])\n",
    "print(fruit[:])\n",
    "print(fruit[0:-3])\n",
    "print(fruit[:len(fruit)-3])\n",
    "print(fruit[-3:-1]) #including -3 but not -1"
   ]
  },
  {
   "cell_type": "code",
   "execution_count": 21,
   "id": "bd26c44b",
   "metadata": {},
   "outputs": [
    {
     "name": "stdout",
     "output_type": "stream",
     "text": [
      "ar\n"
     ]
    }
   ],
   "source": [
    "nm = \"Harry\"\n",
    "print(nm[-4:-2])"
   ]
  },
  {
   "cell_type": "markdown",
   "id": "ab08dd32",
   "metadata": {},
   "source": [
    "## Methods in string"
   ]
  },
  {
   "cell_type": "code",
   "execution_count": 30,
   "id": "9b240819",
   "metadata": {},
   "outputs": [
    {
     "name": "stdout",
     "output_type": "stream",
     "text": [
      "23\n",
      "!!!HARRY!!! !!!!! HARRY\n",
      "!!!harry!!! !!!!! harry\n",
      "!!!Harry!!! !!!!! Harry\n",
      "!!!John!!! !!!!! John\n",
      "['!!!Harry!!!', '!!!!!', 'Harry']\n",
      "2\n"
     ]
    }
   ],
   "source": [
    "#strings are immutable\n",
    "a = \"!!!Harry!!! !!!!! Harry\"\n",
    "print(len(a))\n",
    "print(a.upper())\n",
    "print(a.lower())\n",
    "print(a.rstrip(\"!\"))\n",
    "print(a.replace(\"Harry\", \"John\"))\n",
    "print(a.split(\" \"))\n",
    "print(a.count(\"Harry\"))"
   ]
  },
  {
   "cell_type": "code",
   "execution_count": 28,
   "id": "714223d4",
   "metadata": {},
   "outputs": [
    {
     "name": "stdout",
     "output_type": "stream",
     "text": [
      "Introduction to js\n"
     ]
    }
   ],
   "source": [
    "blogheading = \"introduction to jS\"\n",
    "print(blogheading.capitalize())"
   ]
  },
  {
   "cell_type": "code",
   "execution_count": 41,
   "id": "fdd03f26",
   "metadata": {},
   "outputs": [
    {
     "name": "stdout",
     "output_type": "stream",
     "text": [
      "25\n",
      "50\n",
      "            Welcome to the Console!!!             \n",
      "True\n",
      "True\n",
      "True\n"
     ]
    }
   ],
   "source": [
    "str1 = \"Welcome to the Console!!!\"\n",
    "print(len(str1))\n",
    "print(len(str1.center(50)))\n",
    "print(str1.center(50))\n",
    "\n",
    "print(str1.endswith(\"!!!\"))\n",
    "print(str1.endswith(\"to\", 4, 10))\n",
    "print(str1.startswith(\"Welcome\"))"
   ]
  },
  {
   "cell_type": "code",
   "execution_count": 33,
   "id": "d1dc512d",
   "metadata": {},
   "outputs": [
    {
     "name": "stdout",
     "output_type": "stream",
     "text": [
      "10\n"
     ]
    }
   ],
   "source": [
    "str = \"He's name is Dan. He is an honest man.\"\n",
    "print(str.find(\"is\")) #return 1st occurence of is "
   ]
  },
  {
   "cell_type": "code",
   "execution_count": 38,
   "id": "acb4ccda",
   "metadata": {},
   "outputs": [
    {
     "name": "stdout",
     "output_type": "stream",
     "text": [
      "True\n",
      "False\n",
      "False\n",
      "False\n",
      "True\n",
      "False\n"
     ]
    }
   ],
   "source": [
    "str1 = \"WelcomeToTheConsole01\"\n",
    "print(str1.isalnum())\n",
    "print(str1.isalpha())\n",
    "print(str1.islower())\n",
    "print(str1.isupper())\n",
    "\n",
    "print(str1.isprintable())\n",
    "str2 = \"hello\\n\"\n",
    "print(str2.isprintable()) #false cause it has \\n i.e. not printable"
   ]
  },
  {
   "cell_type": "code",
   "execution_count": 39,
   "id": "4838d9ad",
   "metadata": {},
   "outputs": [
    {
     "name": "stdout",
     "output_type": "stream",
     "text": [
      "True\n",
      "True\n"
     ]
    }
   ],
   "source": [
    "str1 = \"        \"       #using Spacebar\n",
    "print(str1.isspace())\n",
    "str2 = \"        \"       #using Tab\n",
    "print(str2.isspace())"
   ]
  },
  {
   "cell_type": "code",
   "execution_count": 40,
   "id": "27cfe171",
   "metadata": {},
   "outputs": [
    {
     "name": "stdout",
     "output_type": "stream",
     "text": [
      "True\n"
     ]
    }
   ],
   "source": [
    "str1 = \"World Health Organization\" \n",
    "print(str1.istitle()) #return true is string is capitalized"
   ]
  },
  {
   "cell_type": "code",
   "execution_count": 42,
   "id": "ad385bf3",
   "metadata": {},
   "outputs": [
    {
     "name": "stdout",
     "output_type": "stream",
     "text": [
      "pYTHON IS A iNTERPRETED lANGUAGE\n"
     ]
    }
   ],
   "source": [
    "str1 = \"Python is a Interpreted Language\" \n",
    "print(str1.swapcase())\n",
    "\n"
   ]
  },
  {
   "cell_type": "code",
   "execution_count": 43,
   "id": "f82e2e25",
   "metadata": {},
   "outputs": [
    {
     "name": "stdout",
     "output_type": "stream",
     "text": [
      "He'S Name Is Dan. Dan Is An Honest Man.\n"
     ]
    }
   ],
   "source": [
    "str1 = \"He's name is Dan. Dan is an honest man.\"\n",
    "print(str1.title())"
   ]
  },
  {
   "cell_type": "markdown",
   "id": "c6f66d66",
   "metadata": {},
   "source": [
    "## If-Else Statement\n",
    "Conditional operator >, <, <=, >=, !=, =="
   ]
  },
  {
   "cell_type": "code",
   "execution_count": 2,
   "id": "c72d11d3",
   "metadata": {},
   "outputs": [
    {
     "name": "stdout",
     "output_type": "stream",
     "text": [
      "Enter your age: 18\n",
      "Your age is: 18\n",
      "You can drive\n"
     ]
    }
   ],
   "source": [
    "a = int(input(\"Enter your age: \"))\n",
    "print(\"Your age is:\", a)\n",
    "\n",
    "if(a>=18):\n",
    "    print(\"You can drive\")\n",
    "else:\n",
    "    print(\"You cannot drive\")"
   ]
  },
  {
   "cell_type": "code",
   "execution_count": 7,
   "id": "274dc0ad",
   "metadata": {},
   "outputs": [
    {
     "name": "stdout",
     "output_type": "stream",
     "text": [
      "Good Afternoon!!\n"
     ]
    }
   ],
   "source": [
    "import time\n",
    "t = time.strftime('%H')\n",
    "timestamp = int(t)\n",
    "if(timestamp >=6 and timestamp <=12):\n",
    "    print(\"Good Morning!!\")\n",
    "elif(timestamp >= 12 and timestamp <=16):\n",
    "    print(\"Good Afternoon!!\")\n",
    "elif(timestamp >=16 and timestamp <=20):\n",
    "    print(\"Good Evening!!\")\n",
    "else: \n",
    "    print(\"Good Night!!\")"
   ]
  },
  {
   "cell_type": "markdown",
   "id": "acc64774",
   "metadata": {},
   "source": [
    "## Match Case Statement"
   ]
  },
  {
   "cell_type": "markdown",
   "id": "d4968d17",
   "metadata": {},
   "source": [
    "A match statement will compare a given variable’s value to different shapes, also referred to as the pattern. The main idea is to keep on comparing the variable with all the present patterns until it fits into one.\n",
    "\n",
    "The match case consists of three main entities :\n",
    "\n",
    "The match keyword\n",
    "One or more case clauses\n",
    "Expression for each case\n",
    "The case clause consists of a pattern to be matched to the variable, a condition to be evaluated if the pattern matches, and a set of statements to be executed if the pattern matches."
   ]
  },
  {
   "cell_type": "code",
   "execution_count": null,
   "id": "b5954ddd",
   "metadata": {},
   "outputs": [],
   "source": [
    "x = int(input(\"Enter the value of x: \"))\n",
    "# x is the variable to match\n",
    "match x:\n",
    "    # if x is 0\n",
    "    case 0:\n",
    "        print(\"x is zero\")\n",
    "    case 4:\n",
    "        print(\"case is 4\")\n",
    "    #default case\n",
    "    case _:\n",
    "        print(x)"
   ]
  },
  {
   "cell_type": "code",
   "execution_count": null,
   "id": "be53a963",
   "metadata": {},
   "outputs": [],
   "source": [
    "x = 4\n",
    "# x is the variable to match\n",
    "match x:\n",
    "    # if x is 0\n",
    "    case 0:\n",
    "        print(\"x is zero\")\n",
    "    # case with if-condition\n",
    "    case 4 if x % 2 == 0:\n",
    "        print(\"x % 2 == 0 and case is 4\")\n",
    "    # Empty case with if-condition\n",
    "    case _ if x < 10:\n",
    "        print(\"x is < 10\")\n",
    "    # default case(will only be matched if the above cases were not matched)\n",
    "    # so it is basically just an else:\n",
    "    case _:\n",
    "        print(x)"
   ]
  },
  {
   "cell_type": "markdown",
   "id": "8ec1300f",
   "metadata": {},
   "source": [
    "## Loops"
   ]
  },
  {
   "cell_type": "code",
   "execution_count": 3,
   "id": "72316731",
   "metadata": {},
   "outputs": [
    {
     "name": "stdout",
     "output_type": "stream",
     "text": [
      "A, n, u, s, h, k, a, "
     ]
    }
   ],
   "source": [
    " #Iterating over a string\n",
    "name = \"Anushka\"\n",
    "for i in name:\n",
    "    print(i, end = \", \") "
   ]
  },
  {
   "cell_type": "code",
   "execution_count": 6,
   "id": "5d32f50b",
   "metadata": {},
   "outputs": [
    {
     "name": "stdout",
     "output_type": "stream",
     "text": [
      "Red\n",
      "Green\n",
      "Blue\n",
      "Yellow\n",
      "R\n",
      "e\n",
      "d\n",
      "G\n",
      "r\n",
      "e\n",
      "e\n",
      "n\n",
      "B\n",
      "l\n",
      "u\n",
      "e\n",
      "Y\n",
      "e\n",
      "l\n",
      "l\n",
      "o\n",
      "w\n"
     ]
    }
   ],
   "source": [
    "#Iterating over a list\n",
    "colors = [\"Red\", \"Green\", \"Blue\", \"Yellow\"]\n",
    "for color in colors:\n",
    "    print(color)\n",
    "    \n",
    "colors = [\"Red\", \"Green\", \"Blue\", \"Yellow\"]\n",
    "for color in colors:\n",
    "    for i in color:\n",
    "        print(i)"
   ]
  },
  {
   "cell_type": "code",
   "execution_count": 16,
   "id": "598b5667",
   "metadata": {},
   "outputs": [
    {
     "name": "stdout",
     "output_type": "stream",
     "text": [
      "0, 1, 2, 3, 4, \n",
      "\n",
      "1, 2, 3, 4, 5, 6, 7, 8, \n",
      "\n",
      "1, 4, 7, 10, "
     ]
    }
   ],
   "source": [
    "for k in range(5):\n",
    "    print(k, end = \", \")\n",
    "    \n",
    "print(\"\\n\")\n",
    "\n",
    "for k in range(1, 9):\n",
    "    print(k, end = \", \")\n",
    "    \n",
    "print(\"\\n\")\n",
    "\n",
    "for k in range(1, 12, 3):\n",
    "    print(k, end = \", \")"
   ]
  },
  {
   "cell_type": "markdown",
   "id": "4a7c11cc",
   "metadata": {},
   "source": [
    "## While Loop"
   ]
  },
  {
   "cell_type": "code",
   "execution_count": 17,
   "id": "eab3528c",
   "metadata": {},
   "outputs": [
    {
     "name": "stdout",
     "output_type": "stream",
     "text": [
      "0\n",
      "1\n",
      "2\n"
     ]
    }
   ],
   "source": [
    "i=0\n",
    "while(i<3):\n",
    "    print(i)\n",
    "    i=i+1"
   ]
  },
  {
   "cell_type": "code",
   "execution_count": 3,
   "id": "8ade905c",
   "metadata": {},
   "outputs": [
    {
     "name": "stdout",
     "output_type": "stream",
     "text": [
      "5, 4, 3, 2, 1, "
     ]
    }
   ],
   "source": [
    "count = 5\n",
    "while (count>0):\n",
    "    print(count, end = \", \")\n",
    "    count = count-1"
   ]
  },
  {
   "cell_type": "code",
   "execution_count": 4,
   "id": "67fd7635",
   "metadata": {},
   "outputs": [
    {
     "name": "stdout",
     "output_type": "stream",
     "text": [
      "5, 4, 3, 2, 1, counter is 0\n"
     ]
    }
   ],
   "source": [
    "x = 5\n",
    "while(x>0):\n",
    "    print(x, end = \", \")\n",
    "    x = x-1\n",
    "else:\n",
    "    print('counter is 0')"
   ]
  },
  {
   "cell_type": "markdown",
   "id": "e7f768a8",
   "metadata": {},
   "source": [
    "#### Emulating do while loop in python"
   ]
  },
  {
   "cell_type": "code",
   "execution_count": 6,
   "id": "0c6aa197",
   "metadata": {},
   "outputs": [
    {
     "name": "stdout",
     "output_type": "stream",
     "text": [
      "Enter a positive number: 90\n",
      "90\n",
      "Enter a positive number: -1\n",
      "-1\n"
     ]
    }
   ],
   "source": [
    "while True:\n",
    "    number = int(input(\"Enter a positive number: \"))\n",
    "    print(number)\n",
    "    if not number > 0:\n",
    "        break"
   ]
  },
  {
   "cell_type": "markdown",
   "id": "2399d335",
   "metadata": {},
   "source": [
    "## Break Statement\n",
    "The break statement enables a program to skip over a part of the code. A break statement terminates the very loop it lies within."
   ]
  },
  {
   "cell_type": "code",
   "execution_count": 7,
   "id": "21ffff82",
   "metadata": {},
   "outputs": [
    {
     "name": "stdout",
     "output_type": "stream",
     "text": [
      "5 X 1 = 5\n",
      "5 X 2 = 10\n",
      "5 X 3 = 15\n",
      "5 X 4 = 20\n",
      "5 X 5 = 25\n",
      "5 X 6 = 30\n",
      "5 X 7 = 35\n",
      "5 X 8 = 40\n",
      "5 X 9 = 45\n",
      "5 X 10 = 50\n",
      "10 iterations k baad loop breaked\n"
     ]
    }
   ],
   "source": [
    "for i in range(12):\n",
    "    if i == 10:\n",
    "        break\n",
    "    print(\"5 X\", i+1, \"=\", 5*(i+1))\n",
    "print(\"10 iterations k baad loop breaked\")  "
   ]
  },
  {
   "cell_type": "markdown",
   "id": "83adad20",
   "metadata": {},
   "source": [
    "## Continue Statement\n",
    "The continue statement skips the rest of the loop statements and causes the next iteration to occur."
   ]
  },
  {
   "cell_type": "code",
   "execution_count": 9,
   "id": "3c7be147",
   "metadata": {},
   "outputs": [
    {
     "name": "stdout",
     "output_type": "stream",
     "text": [
      "2\n",
      "4\n",
      "6\n",
      "8\n",
      "0\n"
     ]
    }
   ],
   "source": [
    "# after using continue here it will skip the iteration where i is odd\n",
    "for i in [2,3,4,6,8,0]:\n",
    "    if (i%2!=0):\n",
    "        continue\n",
    "    print(i)"
   ]
  },
  {
   "cell_type": "markdown",
   "id": "018b56ff",
   "metadata": {},
   "source": [
    "## Functions in Python"
   ]
  },
  {
   "cell_type": "code",
   "execution_count": 13,
   "id": "3ea1f821",
   "metadata": {},
   "outputs": [
    {
     "name": "stdout",
     "output_type": "stream",
     "text": [
      "Second number is greater or equal\n",
      "4.235294117647059\n",
      "First number is Greater\n",
      "7.5\n"
     ]
    }
   ],
   "source": [
    "def calculateGmean(a, b):\n",
    "    mean = (a*b)/(a+b)\n",
    "    print(mean)\n",
    "\n",
    "def isGreater(a, b):\n",
    "    if(a<b):\n",
    "        print(\"First number is Greater\")\n",
    "    else:\n",
    "        print(\"Second number is greater or equal\")\n",
    "\n",
    "def isLesser(a, b):#function without body using pass\n",
    "    pass\n",
    "\n",
    "\n",
    "a = 9\n",
    "b = 8\n",
    "isGreater(a, b)\n",
    "calculateGmean(a, b)\n",
    "\n",
    "a = 12\n",
    "b = 20\n",
    "isGreater(a, b)\n",
    "calculateGmean(a, b)"
   ]
  },
  {
   "cell_type": "markdown",
   "id": "caab1bb7",
   "metadata": {},
   "source": [
    "### Function Arguments and return statement\n",
    "There are four types of arguments that we can provide in a function:\n",
    "\n",
    "1. Default Arguments\n",
    "2. Keyword Arguments\n",
    "3. Variable length Arguments\n",
    "4. Required Arguments"
   ]
  },
  {
   "cell_type": "code",
   "execution_count": 15,
   "id": "952a90a7",
   "metadata": {},
   "outputs": [
    {
     "name": "stdout",
     "output_type": "stream",
     "text": [
      "The average is  5.0\n",
      "The average is  5.0\n",
      "The average is  3.0\n",
      "The average is  9.0\n"
     ]
    }
   ],
   "source": [
    "#default arguments\n",
    "def average(a=9, b=1):\n",
    "    print(\"The average is \", (a+b)/2)\n",
    "\n",
    "average()\n",
    "average(4, 6)\n",
    "average(5)\n",
    "average(b=9)"
   ]
  },
  {
   "cell_type": "code",
   "execution_count": 17,
   "id": "90ceff92",
   "metadata": {},
   "outputs": [
    {
     "name": "stdout",
     "output_type": "stream",
     "text": [
      "The average is  15.5\n"
     ]
    }
   ],
   "source": [
    "#keyword argument\n",
    "def average(a=9, b=1):\n",
    "    print(\"The average is \", (a+b)/2)\n",
    "    \n",
    "average(b=10, a=21) \n",
    "#if you want that order should not matter then use keyword argument"
   ]
  },
  {
   "cell_type": "code",
   "execution_count": 18,
   "id": "7eeea3dd",
   "metadata": {},
   "outputs": [
    {
     "name": "stdout",
     "output_type": "stream",
     "text": [
      "The average is 11.0\n"
     ]
    }
   ],
   "source": [
    "#required argument\n",
    "def average(a, b=1):\n",
    "    print(\"The average is\", (a+b)/2)\n",
    "\n",
    "average(a=21) #value of a should be necessarily given"
   ]
  },
  {
   "cell_type": "code",
   "execution_count": 19,
   "id": "da354106",
   "metadata": {},
   "outputs": [
    {
     "name": "stdout",
     "output_type": "stream",
     "text": [
      "Average is:  7.5\n"
     ]
    }
   ],
   "source": [
    "#variable length argument\n",
    "def average(*numbers):\n",
    "    #print(type(numbers))\n",
    "    sum=0\n",
    "    for i in numbers:\n",
    "        sum = sum+i\n",
    "    print(\"Average is: \", sum/len(numbers))\n",
    "    \n",
    "average(5, 6, 8, 11)"
   ]
  },
  {
   "cell_type": "markdown",
   "id": "025cd412",
   "metadata": {},
   "source": [
    "### return statement"
   ]
  },
  {
   "cell_type": "code",
   "execution_count": 20,
   "id": "215b965b",
   "metadata": {},
   "outputs": [
    {
     "name": "stdout",
     "output_type": "stream",
     "text": [
      "7.25\n"
     ]
    }
   ],
   "source": [
    "def average(*numbers):\n",
    "    sum=0\n",
    "    for i in numbers:\n",
    "        sum = sum+i\n",
    "    return sum/len(numbers)\n",
    "\n",
    "c = average(5, 6, 7, 11)\n",
    "print(c)"
   ]
  },
  {
   "cell_type": "code",
   "execution_count": null,
   "id": "eab7fc09",
   "metadata": {},
   "outputs": [],
   "source": []
  }
 ],
 "metadata": {
  "kernelspec": {
   "display_name": "Python 3",
   "language": "python",
   "name": "python3"
  },
  "language_info": {
   "codemirror_mode": {
    "name": "ipython",
    "version": 3
   },
   "file_extension": ".py",
   "mimetype": "text/x-python",
   "name": "python",
   "nbconvert_exporter": "python",
   "pygments_lexer": "ipython3",
   "version": "3.8.8"
  }
 },
 "nbformat": 4,
 "nbformat_minor": 5
}
