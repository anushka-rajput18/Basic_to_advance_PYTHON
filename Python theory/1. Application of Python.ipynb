{
 "cells": [
  {
   "cell_type": "code",
   "execution_count": 1,
   "id": "42760a2e",
   "metadata": {},
   "outputs": [],
   "source": [
    "# Python Tkinter GUI based \"LOVE CALCULATOR\"\n",
    "\n",
    "# import tkinter\n",
    "from tkinter import *\n",
    "# import random module\n",
    "import random\n",
    "# Creating GUI window\n",
    "root = Tk()\n",
    "# Defining the container size, width=400, height=240\n",
    "root.geometry('400x240')\n",
    "# Title of the container\n",
    "root.title('Love Calculator????')\n",
    "\n",
    "# Function to calculate love percentage\n",
    "# between the user ans partner\n",
    "\n",
    "\n",
    "def calculate_love():\n",
    "\t# value will contain digits between 0-9\n",
    "\tst = '0123456789'\n",
    "\t# result will be in double digits\n",
    "\tdigit = 2\n",
    "\ttemp = \"\".join(random.sample(st, digit))\n",
    "\tresult.config(text=temp)\n",
    "\n",
    "\n",
    "# Heading on Top\n",
    "heading = Label(root, text='Love Calculator - How much is he/she into you')\n",
    "heading.pack()\n",
    "\n",
    "# Slot/input for the first name\n",
    "slot1 = Label(root, text=\"Enter Your Name:\")\n",
    "slot1.pack()\n",
    "name1 = Entry(root, border=5)\n",
    "name1.pack()\n",
    "\n",
    "# Slot/input for the partner name\n",
    "slot2 = Label(root, text=\"Enter Your Partner Name:\")\n",
    "slot2.pack()\n",
    "name2 = Entry(root, border=5)\n",
    "name2.pack()\n",
    "\n",
    "bt = Button(root, text=\"Calculate\", height=1,\n",
    "\t\t\twidth=7, command=calculate_love)\n",
    "bt.pack()\n",
    "\n",
    "# Text on result slot\n",
    "result = Label(root, text='Love Percentage between both of You:')\n",
    "result.pack()\n",
    "\n",
    "# Starting the GUI\n",
    "root.mainloop()"
   ]
  },
  {
   "cell_type": "code",
   "execution_count": null,
   "id": "c5ae8cf8",
   "metadata": {},
   "outputs": [],
   "source": []
  }
 ],
 "metadata": {
  "kernelspec": {
   "display_name": "Python 3",
   "language": "python",
   "name": "python3"
  },
  "language_info": {
   "codemirror_mode": {
    "name": "ipython",
    "version": 3
   },
   "file_extension": ".py",
   "mimetype": "text/x-python",
   "name": "python",
   "nbconvert_exporter": "python",
   "pygments_lexer": "ipython3",
   "version": "3.8.8"
  }
 },
 "nbformat": 4,
 "nbformat_minor": 5
}
