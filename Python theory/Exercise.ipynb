{
 "cells": [
  {
   "cell_type": "markdown",
   "id": "ced13e94",
   "metadata": {},
   "source": [
    "### Exercise 1: Calculator using Python"
   ]
  },
  {
   "cell_type": "code",
   "execution_count": 3,
   "id": "fa00378d",
   "metadata": {},
   "outputs": [
    {
     "name": "stdout",
     "output_type": "stream",
     "text": [
      "11\n",
      "9\n",
      "90\n",
      "2.5\n",
      "2\n",
      "2\n",
      "16\n"
     ]
    }
   ],
   "source": [
    "print(5+6)    #11\n",
    "print(15-6)   #9\n",
    "print(15*6)   #90\n",
    "print(15/6)   #2.5\n",
    "print(15//6)  #2\n",
    "print(5%3)    #2\n",
    "print(2**4)   #125\n"
   ]
  },
  {
   "cell_type": "code",
   "execution_count": 1,
   "id": "3044e277",
   "metadata": {},
   "outputs": [
    {
     "name": "stdout",
     "output_type": "stream",
     "text": [
      "Enter number 1: 20\n",
      "please enter your Operator: //\n",
      "Enter number 2: 4\n",
      "5\n"
     ]
    }
   ],
   "source": [
    "num1 = int(input(\"Enter number 1: \"))\n",
    "opr = input(\"please enter your Operator: \")\n",
    "num2 = int(input(\"Enter number 2: \"))\n",
    "if(opr=='+'):\n",
    "    print(num1+num2)\n",
    "elif(opr=='-'):\n",
    "    print(num1-num2)\n",
    "elif(opr=='*'):\n",
    "    print(num1*num2)\n",
    "elif(opr=='/'):\n",
    "    print(num1/num2)\n",
    "elif(opr=='//'):\n",
    "    print(num1//num2)\n",
    "elif(opr=='%'):\n",
    "    print(num1%num2)\n",
    "elif(opr=='**'):\n",
    "    print(num1**num2)"
   ]
  },
  {
   "cell_type": "code",
   "execution_count": null,
   "id": "cafea58a",
   "metadata": {},
   "outputs": [],
   "source": []
  }
 ],
 "metadata": {
  "kernelspec": {
   "display_name": "Python 3",
   "language": "python",
   "name": "python3"
  },
  "language_info": {
   "codemirror_mode": {
    "name": "ipython",
    "version": 3
   },
   "file_extension": ".py",
   "mimetype": "text/x-python",
   "name": "python",
   "nbconvert_exporter": "python",
   "pygments_lexer": "ipython3",
   "version": "3.8.8"
  }
 },
 "nbformat": 4,
 "nbformat_minor": 5
}
