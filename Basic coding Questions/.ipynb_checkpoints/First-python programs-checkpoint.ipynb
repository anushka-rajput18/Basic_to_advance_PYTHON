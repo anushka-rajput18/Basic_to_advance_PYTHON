{
 "cells": [
  {
   "cell_type": "markdown",
   "id": "b5a1866e",
   "metadata": {},
   "source": [
    "### Write a program to print whether a number is even or odd, also take input from the user."
   ]
  },
  {
   "cell_type": "code",
   "execution_count": 2,
   "id": "240c908e",
   "metadata": {},
   "outputs": [
    {
     "name": "stdout",
     "output_type": "stream",
     "text": [
      "Enter any number: 57\n",
      "Number is Odd\n"
     ]
    }
   ],
   "source": [
    "num = int(input(\"Enter any number: \"))\n",
    "if num%2==0:\n",
    "    print(\"Number is Even\")\n",
    "else:\n",
    "    print(\"Number is Odd\")"
   ]
  },
  {
   "cell_type": "markdown",
   "id": "7b67a7a0",
   "metadata": {},
   "source": [
    "### Take name as input and print a greeting message for that particular name."
   ]
  },
  {
   "cell_type": "code",
   "execution_count": 3,
   "id": "63612462",
   "metadata": {},
   "outputs": [
    {
     "name": "stdout",
     "output_type": "stream",
     "text": [
      "Enter any name: Anushka\n",
      "Hello Anushka\n"
     ]
    }
   ],
   "source": [
    "name = input(\"Enter any name: \")\n",
    "print(\"Hello\", name)"
   ]
  },
  {
   "cell_type": "markdown",
   "id": "4c3212c6",
   "metadata": {},
   "source": [
    "### Write a program to input principal, time, and rate (P, T, R) from the user and find Simple Interest"
   ]
  },
  {
   "cell_type": "code",
   "execution_count": 4,
   "id": "c64f7d28",
   "metadata": {},
   "outputs": [
    {
     "name": "stdout",
     "output_type": "stream",
     "text": [
      "Enter principal: 45\n",
      "Enter time: 3\n",
      "Enter rate: 4\n",
      "Simple Interest:  540.0\n"
     ]
    }
   ],
   "source": [
    "principal = float(input(\"Enter principal: \"))\n",
    "time = float(input(\"Enter time: \"))\n",
    "rate = float(input(\"Enter rate: \"))\n",
    "print(\"Simple Interest: \",principal*time*rate)"
   ]
  },
  {
   "cell_type": "markdown",
   "id": "c70beed2",
   "metadata": {},
   "source": [
    "### Take in two numbers and an operator (+, -, *, /) and calculate the value."
   ]
  },
  {
   "cell_type": "code",
   "execution_count": 7,
   "id": "bee4ede1",
   "metadata": {},
   "outputs": [
    {
     "name": "stdout",
     "output_type": "stream",
     "text": [
      "Enter num1: 3\n",
      "Enter operator: +\n",
      "Enter num2: 4\n",
      "3 + 4 = 7\n"
     ]
    }
   ],
   "source": [
    "num1 = int(input(\"Enter num1: \"))\n",
    "opr = input(\"Enter operator: \")\n",
    "num2 = int(input(\"Enter num2: \"))\n",
    "if(opr=='+'):\n",
    "    print(num1, opr, num2,\"=\",num1+num2)\n",
    "elif(opr=='-'):\n",
    "    print(num1, opr, num2,\"=\",num1-num2)\n",
    "elif(opr=='*'):\n",
    "    print(num1, opr, num2,\"=\",num1*num2)\n",
    "else:\n",
    "    print(num1, opr, num2,\"=\",num1/num2)"
   ]
  },
  {
   "cell_type": "markdown",
   "id": "513625b9",
   "metadata": {},
   "source": [
    "### Take 2 numbers as input and print the largest number."
   ]
  },
  {
   "cell_type": "code",
   "execution_count": 9,
   "id": "056449d6",
   "metadata": {},
   "outputs": [
    {
     "name": "stdout",
     "output_type": "stream",
     "text": [
      "Enter num1: 34\n",
      "Enter num2: 67\n",
      "67 is greater than 34\n"
     ]
    }
   ],
   "source": [
    "num1 = int(input(\"Enter num1: \"))\n",
    "num2 = int(input(\"Enter num2: \"))\n",
    "if num1>num2:\n",
    "    print(num1,\"is greater than\",num2)\n",
    "else:\n",
    "    print(num2,\"is greater than\",num1)"
   ]
  },
  {
   "cell_type": "markdown",
   "id": "4876d601",
   "metadata": {},
   "source": [
    "### Input currency in rupees and output in USD."
   ]
  },
  {
   "cell_type": "code",
   "execution_count": 3,
   "id": "11a2ecbc",
   "metadata": {},
   "outputs": [
    {
     "name": "stdout",
     "output_type": "stream",
     "text": [
      "Enter Rupees: 45\n",
      "45.0 Rupee =  3690.0 USD\n"
     ]
    }
   ],
   "source": [
    "rupee = float(input(\"Enter Rupees: \"))\n",
    "USD = rupee*82\n",
    "print(rupee,\"Rupee = \",USD,\"USD\")"
   ]
  },
  {
   "cell_type": "markdown",
   "id": "d73eed2c",
   "metadata": {},
   "source": [
    "### To calculate Fibonacci Series up to n numbers."
   ]
  },
  {
   "cell_type": "code",
   "execution_count": 1,
   "id": "e915e851",
   "metadata": {},
   "outputs": [
    {
     "name": "stdout",
     "output_type": "stream",
     "text": [
      "Enter number of fibonacci series you want: 10\n",
      "Fibonacci Series: 0 1 1 2 3 5 8 13 21 34 "
     ]
    }
   ],
   "source": [
    "num = int(input(\"Enter number of fibonacci series you want: \"))\n",
    "n1, n2 = 0, 1\n",
    "print(\"Fibonacci Series:\", n1, n2, end=\" \")\n",
    "for i in range(2, num):\n",
    "    n3 = n1 + n2\n",
    "    n1 = n2\n",
    "    n2 = n3\n",
    "    print(n3, end=\" \")"
   ]
  },
  {
   "cell_type": "markdown",
   "id": "463f01fa",
   "metadata": {},
   "source": [
    "### To find out whether the given String is Palindrome or not."
   ]
  },
  {
   "cell_type": "code",
   "execution_count": 4,
   "id": "eac32715",
   "metadata": {},
   "outputs": [
    {
     "name": "stdout",
     "output_type": "stream",
     "text": [
      "Enter any string: teeth\n",
      "Given string is not a palindrome\n"
     ]
    }
   ],
   "source": [
    "string = str(input(\"Enter any string: \"));  \n",
    "flag = True;   \n",
    "string = string.lower();  \n",
    "for i in range(0, len(string)//2):  \n",
    "    if(string[i] != string[len(string)-i-1]):  \n",
    "        flag = False;  \n",
    "        break;  \n",
    "if flag:\n",
    "    print(\"Given string is palindrome\");  \n",
    "else:  \n",
    "    print(\"Given string is not a palindrome\");  "
   ]
  },
  {
   "cell_type": "markdown",
   "id": "6f0f0bc9",
   "metadata": {},
   "source": [
    "### To find Armstrong Number between two given number."
   ]
  },
  {
   "cell_type": "code",
   "execution_count": 12,
   "id": "d43da6fb",
   "metadata": {},
   "outputs": [
    {
     "name": "stdout",
     "output_type": "stream",
     "text": [
      "Enter lower range: 100\n",
      "Enter upper range: 500\n",
      "125 153 216 370 371 407 "
     ]
    }
   ],
   "source": [
    "lower = int(input(\"Enter lower range: \"))  \n",
    "upper = int(input(\"Enter upper range: \"))  \n",
    "  \n",
    "for num in range(lower,upper + 1):  \n",
    "    sum = 0  \n",
    "    temp = num  \n",
    "    while temp > 0:  \n",
    "        digit = temp % 10  \n",
    "        sum += digit ** 3  \n",
    "        temp //= 10  \n",
    "        if num == sum:  \n",
    "            print(num, end =\" \") "
   ]
  }
 ],
 "metadata": {
  "kernelspec": {
   "display_name": "Python 3",
   "language": "python",
   "name": "python3"
  },
  "language_info": {
   "codemirror_mode": {
    "name": "ipython",
    "version": 3
   },
   "file_extension": ".py",
   "mimetype": "text/x-python",
   "name": "python",
   "nbconvert_exporter": "python",
   "pygments_lexer": "ipython3",
   "version": "3.8.8"
  }
 },
 "nbformat": 4,
 "nbformat_minor": 5
}
