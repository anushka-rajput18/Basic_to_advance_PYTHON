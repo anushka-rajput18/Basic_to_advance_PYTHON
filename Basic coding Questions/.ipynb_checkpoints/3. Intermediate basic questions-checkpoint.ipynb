{
 "cells": [
  {
   "cell_type": "markdown",
   "id": "12d6a2de",
   "metadata": {},
   "source": [
    "### Factorial Program"
   ]
  },
  {
   "cell_type": "code",
   "execution_count": 1,
   "id": "94e47369",
   "metadata": {},
   "outputs": [
    {
     "name": "stdout",
     "output_type": "stream",
     "text": [
      "Enter any number: 23\n",
      "The factorial of 23 is : 25852016738884976640000\n"
     ]
    }
   ],
   "source": [
    "n = int(input(\"Enter any number: \"))\n",
    "fact = 1\n",
    "\n",
    "for i in range(1, n+1):\n",
    "    fact = fact * i\n",
    "\n",
    "print(\"The factorial of 23 is : \", end=\"\")\n",
    "print(fact)"
   ]
  },
  {
   "cell_type": "markdown",
   "id": "0ed58c89",
   "metadata": {},
   "source": [
    "### Calculate Electricity Bill"
   ]
  },
  {
   "cell_type": "code",
   "execution_count": 3,
   "id": "03086b93",
   "metadata": {},
   "outputs": [
    {
     "name": "stdout",
     "output_type": "stream",
     "text": [
      "Enter unit of electricity consumed: 12\n",
      "Your bill is:  132\n"
     ]
    }
   ],
   "source": [
    "unit = int(input(\"Enter unit of electricity consumed: \"))\n",
    "price_per_unit = 11\n",
    "billpay = unit*price_per_unit\n",
    "print(\"Your bill is: \",billpay)"
   ]
  },
  {
   "cell_type": "markdown",
   "id": "d16aefcf",
   "metadata": {},
   "source": [
    "### Calculate Average Of N Numbers"
   ]
  },
  {
   "cell_type": "code",
   "execution_count": 4,
   "id": "15dd4a75",
   "metadata": {},
   "outputs": [
    {
     "name": "stdout",
     "output_type": "stream",
     "text": [
      "Enter value of N: 4\n",
      "1\n",
      "2\n",
      "3\n",
      "5\n",
      "Average of N numbers is 2.75\n"
     ]
    }
   ],
   "source": [
    "n = int(input(\"Enter value of N: \"))\n",
    "sum=0\n",
    "num = n\n",
    "while(n>0):\n",
    "    sum = sum + int(input())\n",
    "    n=n-1\n",
    "print(f\"Average of N numbers is {sum/num}\")"
   ]
  },
  {
   "cell_type": "markdown",
   "id": "029d55a1",
   "metadata": {},
   "source": [
    "### Calculate Distance Between Two Points"
   ]
  },
  {
   "cell_type": "code",
   "execution_count": null,
   "id": "2c69fd6e",
   "metadata": {},
   "outputs": [],
   "source": []
  },
  {
   "cell_type": "code",
   "execution_count": null,
   "id": "6336e34d",
   "metadata": {},
   "outputs": [],
   "source": []
  },
  {
   "cell_type": "code",
   "execution_count": null,
   "id": "48354227",
   "metadata": {},
   "outputs": [],
   "source": []
  },
  {
   "cell_type": "code",
   "execution_count": null,
   "id": "ff47e395",
   "metadata": {},
   "outputs": [],
   "source": []
  },
  {
   "cell_type": "code",
   "execution_count": null,
   "id": "f274874f",
   "metadata": {},
   "outputs": [],
   "source": []
  },
  {
   "cell_type": "code",
   "execution_count": null,
   "id": "086ec0fd",
   "metadata": {},
   "outputs": [],
   "source": []
  },
  {
   "cell_type": "code",
   "execution_count": null,
   "id": "822f3545",
   "metadata": {},
   "outputs": [],
   "source": []
  },
  {
   "cell_type": "code",
   "execution_count": null,
   "id": "07ae100e",
   "metadata": {},
   "outputs": [],
   "source": []
  }
 ],
 "metadata": {
  "kernelspec": {
   "display_name": "Python 3",
   "language": "python",
   "name": "python3"
  },
  "language_info": {
   "codemirror_mode": {
    "name": "ipython",
    "version": 3
   },
   "file_extension": ".py",
   "mimetype": "text/x-python",
   "name": "python",
   "nbconvert_exporter": "python",
   "pygments_lexer": "ipython3",
   "version": "3.8.8"
  }
 },
 "nbformat": 4,
 "nbformat_minor": 5
}
