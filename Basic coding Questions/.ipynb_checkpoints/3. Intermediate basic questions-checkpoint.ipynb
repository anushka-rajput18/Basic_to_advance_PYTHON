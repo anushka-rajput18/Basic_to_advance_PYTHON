{
 "cells": [
  {
   "cell_type": "markdown",
   "id": "12d6a2de",
   "metadata": {},
   "source": [
    "### Factorial Program"
   ]
  },
  {
   "cell_type": "code",
   "execution_count": 1,
   "id": "94e47369",
   "metadata": {},
   "outputs": [
    {
     "name": "stdout",
     "output_type": "stream",
     "text": [
      "Enter any number: 23\n",
      "The factorial of 23 is : 25852016738884976640000\n"
     ]
    }
   ],
   "source": [
    "n = int(input(\"Enter any number: \"))\n",
    "fact = 1\n",
    "\n",
    "for i in range(1, n+1):\n",
    "    fact = fact * i\n",
    "\n",
    "print(\"The factorial of 23 is : \", end=\"\")\n",
    "print(fact)"
   ]
  },
  {
   "cell_type": "markdown",
   "id": "0ed58c89",
   "metadata": {},
   "source": [
    "### Calculate Electricity Bill"
   ]
  },
  {
   "cell_type": "code",
   "execution_count": 3,
   "id": "03086b93",
   "metadata": {},
   "outputs": [
    {
     "name": "stdout",
     "output_type": "stream",
     "text": [
      "Enter unit of electricity consumed: 12\n",
      "Your bill is:  132\n"
     ]
    }
   ],
   "source": [
    "unit = int(input(\"Enter unit of electricity consumed: \"))\n",
    "price_per_unit = 11\n",
    "billpay = unit*price_per_unit\n",
    "print(\"Your bill is: \",billpay)"
   ]
  },
  {
   "cell_type": "markdown",
   "id": "d16aefcf",
   "metadata": {},
   "source": [
    "### Calculate Average Of N Numbers"
   ]
  },
  {
   "cell_type": "code",
   "execution_count": 4,
   "id": "15dd4a75",
   "metadata": {},
   "outputs": [
    {
     "name": "stdout",
     "output_type": "stream",
     "text": [
      "Enter value of N: 4\n",
      "1\n",
      "2\n",
      "3\n",
      "5\n",
      "Average of N numbers is 2.75\n"
     ]
    }
   ],
   "source": [
    "n = int(input(\"Enter value of N: \"))\n",
    "sum=0\n",
    "num = n\n",
    "while(n>0):\n",
    "    sum = sum + int(input())\n",
    "    n=n-1\n",
    "print(f\"Average of N numbers is {sum/num}\")"
   ]
  },
  {
   "cell_type": "markdown",
   "id": "2f9f24f4",
   "metadata": {},
   "source": [
    "### Calculate Discount Of Product"
   ]
  },
  {
   "cell_type": "code",
   "execution_count": 3,
   "id": "f7cba580",
   "metadata": {},
   "outputs": [
    {
     "name": "stdout",
     "output_type": "stream",
     "text": [
      "Enter market price: 100000\n",
      "Enter discount price: 10\n",
      "Amount after discount is  90000.0\n"
     ]
    }
   ],
   "source": [
    "market_price = int(input(\"Enter market price: \"))\n",
    "discount_percentage = int(input(\"Enter discount price: \"))\n",
    "amount = ((100-discount_percentage)*market_price)/100\n",
    "print(\"Amount after discount is \",amount)"
   ]
  },
  {
   "cell_type": "markdown",
   "id": "90dd86b5",
   "metadata": {},
   "source": [
    "### Calculate Distance Between Two Points"
   ]
  },
  {
   "cell_type": "code",
   "execution_count": 1,
   "id": "5371724a",
   "metadata": {},
   "outputs": [
    {
     "name": "stdout",
     "output_type": "stream",
     "text": [
      "Enter x1: 2\n",
      "Enter x1: 3\n",
      "Enter y1: 4\n",
      "Enter y2: 5\n",
      "1.4142135623730951\n"
     ]
    }
   ],
   "source": [
    "x1 = int(input(\"Enter x1: \"))\n",
    "x2 = int(input(\"Enter x1: \"))\n",
    "y1 = int(input(\"Enter y1: \"))\n",
    "y2 = int(input(\"Enter y2: \"))\n",
    "import math\n",
    "distance = math.sqrt(((x2-x1)*(x2-x1))+((y2-y1)*(y2-y1)))\n",
    "print(distance)"
   ]
  },
  {
   "cell_type": "markdown",
   "id": "9930bf53",
   "metadata": {},
   "source": [
    "### Calculate Commission Percentage"
   ]
  },
  {
   "cell_type": "code",
   "execution_count": 3,
   "id": "6474a00c",
   "metadata": {},
   "outputs": [
    {
     "name": "stdout",
     "output_type": "stream",
     "text": [
      "Enter amount: 2000\n",
      "Enter commission percentage: 30\n",
      "600.0\n"
     ]
    }
   ],
   "source": [
    "amount = int(input(\"Enter amount: \"))\n",
    "commission_percentage = int(input(\"Enter commission percentage: \"))\n",
    "commission = (commission_percentage/100)*amount\n",
    "print(commission)"
   ]
  }
 ],
 "metadata": {
  "kernelspec": {
   "display_name": "Python 3",
   "language": "python",
   "name": "python3"
  },
  "language_info": {
   "codemirror_mode": {
    "name": "ipython",
    "version": 3
   },
   "file_extension": ".py",
   "mimetype": "text/x-python",
   "name": "python",
   "nbconvert_exporter": "python",
   "pygments_lexer": "ipython3",
   "version": "3.8.8"
  }
 },
 "nbformat": 4,
 "nbformat_minor": 5
}
