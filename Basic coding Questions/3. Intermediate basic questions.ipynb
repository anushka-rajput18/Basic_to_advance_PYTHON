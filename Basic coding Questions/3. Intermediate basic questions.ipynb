{
 "cells": [
  {
   "cell_type": "markdown",
   "id": "12d6a2de",
   "metadata": {},
   "source": [
    "### Factorial Program"
   ]
  },
  {
   "cell_type": "code",
   "execution_count": 1,
   "id": "94e47369",
   "metadata": {},
   "outputs": [
    {
     "name": "stdout",
     "output_type": "stream",
     "text": [
      "Enter any number: 23\n",
      "The factorial of 23 is : 25852016738884976640000\n"
     ]
    }
   ],
   "source": [
    "n = int(input(\"Enter any number: \"))\n",
    "fact = 1\n",
    "\n",
    "for i in range(1, n+1):\n",
    "    fact = fact * i\n",
    "\n",
    "print(\"The factorial of 23 is : \", end=\"\")\n",
    "print(fact)"
   ]
  },
  {
   "cell_type": "markdown",
   "id": "0ed58c89",
   "metadata": {},
   "source": [
    "### Calculate Electricity Bill"
   ]
  },
  {
   "cell_type": "code",
   "execution_count": 3,
   "id": "03086b93",
   "metadata": {},
   "outputs": [
    {
     "name": "stdout",
     "output_type": "stream",
     "text": [
      "Enter unit of electricity consumed: 12\n",
      "Your bill is:  132\n"
     ]
    }
   ],
   "source": [
    "unit = int(input(\"Enter unit of electricity consumed: \"))\n",
    "price_per_unit = 11\n",
    "billpay = unit*price_per_unit\n",
    "print(\"Your bill is: \",billpay)"
   ]
  },
  {
   "cell_type": "markdown",
   "id": "d16aefcf",
   "metadata": {},
   "source": [
    "### Calculate Average Of N Numbers"
   ]
  },
  {
   "cell_type": "code",
   "execution_count": 4,
   "id": "15dd4a75",
   "metadata": {},
   "outputs": [
    {
     "name": "stdout",
     "output_type": "stream",
     "text": [
      "Enter value of N: 4\n",
      "1\n",
      "2\n",
      "3\n",
      "5\n",
      "Average of N numbers is 2.75\n"
     ]
    }
   ],
   "source": [
    "n = int(input(\"Enter value of N: \"))\n",
    "sum=0\n",
    "num = n\n",
    "while(n>0):\n",
    "    sum = sum + int(input())\n",
    "    n=n-1\n",
    "print(f\"Average of N numbers is {sum/num}\")"
   ]
  },
  {
   "cell_type": "markdown",
   "id": "2f9f24f4",
   "metadata": {},
   "source": [
    "### Calculate Discount Of Product"
   ]
  },
  {
   "cell_type": "code",
   "execution_count": 3,
   "id": "f7cba580",
   "metadata": {},
   "outputs": [
    {
     "name": "stdout",
     "output_type": "stream",
     "text": [
      "Enter market price: 100000\n",
      "Enter discount price: 10\n",
      "Amount after discount is  90000.0\n"
     ]
    }
   ],
   "source": [
    "market_price = int(input(\"Enter market price: \"))\n",
    "discount_percentage = int(input(\"Enter discount price: \"))\n",
    "amount = ((100-discount_percentage)*market_price)/100\n",
    "print(\"Amount after discount is \",amount)"
   ]
  },
  {
   "cell_type": "markdown",
   "id": "90dd86b5",
   "metadata": {},
   "source": [
    "### Calculate Distance Between Two Points"
   ]
  },
  {
   "cell_type": "code",
   "execution_count": 1,
   "id": "5371724a",
   "metadata": {},
   "outputs": [
    {
     "name": "stdout",
     "output_type": "stream",
     "text": [
      "Enter x1: 2\n",
      "Enter x1: 3\n",
      "Enter y1: 4\n",
      "Enter y2: 5\n",
      "1.4142135623730951\n"
     ]
    }
   ],
   "source": [
    "x1 = int(input(\"Enter x1: \"))\n",
    "x2 = int(input(\"Enter x1: \"))\n",
    "y1 = int(input(\"Enter y1: \"))\n",
    "y2 = int(input(\"Enter y2: \"))\n",
    "import math\n",
    "distance = math.sqrt(((x2-x1)*(x2-x1))+((y2-y1)*(y2-y1)))\n",
    "print(distance)"
   ]
  },
  {
   "cell_type": "markdown",
   "id": "9930bf53",
   "metadata": {},
   "source": [
    "### Calculate Commission Percentage"
   ]
  },
  {
   "cell_type": "code",
   "execution_count": 3,
   "id": "6474a00c",
   "metadata": {},
   "outputs": [
    {
     "name": "stdout",
     "output_type": "stream",
     "text": [
      "Enter amount: 2000\n",
      "Enter commission percentage: 30\n",
      "600.0\n"
     ]
    }
   ],
   "source": [
    "amount = int(input(\"Enter amount: \"))\n",
    "commission_percentage = int(input(\"Enter commission percentage: \"))\n",
    "commission = (commission_percentage/100)*amount\n",
    "print(commission)"
   ]
  },
  {
   "cell_type": "markdown",
   "id": "4de325e1",
   "metadata": {},
   "source": [
    "### Power In Java"
   ]
  },
  {
   "cell_type": "code",
   "execution_count": 3,
   "id": "a32589c3",
   "metadata": {},
   "outputs": [
    {
     "name": "stdout",
     "output_type": "stream",
     "text": [
      "Enter base number: 3\n",
      "Enter exponent: 4\n",
      "27\n"
     ]
    }
   ],
   "source": [
    "num = 1\n",
    "base_number = int(input(\"Enter base number: \"))\n",
    "exponent = int(input(\"Enter exponent: \"))\n",
    "for i in range(1,exponent):\n",
    "    num = num*base_number\n",
    "print(num)"
   ]
  },
  {
   "cell_type": "markdown",
   "id": "da04616d",
   "metadata": {},
   "source": [
    "### Calculate Depreciation of Value"
   ]
  },
  {
   "cell_type": "code",
   "execution_count": 6,
   "id": "3399b4a4",
   "metadata": {},
   "outputs": [
    {
     "name": "stdout",
     "output_type": "stream",
     "text": [
      "Enter any amount: 5000\n",
      "Enter Depreation percentage: 12\n",
      "Number oF years: 5\n",
      "2638.659584\n"
     ]
    }
   ],
   "source": [
    "amount = int(input(\"Enter any amount: \"))\n",
    "deprecation_percentage = int(input(\"Enter Depreation percentage: \"))\n",
    "years = int(input(\"Number oF years: \"))\n",
    "temp = amount \n",
    "for i in range(0,years):\n",
    "    temp = ((100-deprecation_percentage)*temp)/100\n",
    "print(temp)"
   ]
  },
  {
   "cell_type": "markdown",
   "id": "6aa731c2",
   "metadata": {},
   "source": [
    "### Calculate Batting Average"
   ]
  },
  {
   "cell_type": "code",
   "execution_count": 8,
   "id": "497745c1",
   "metadata": {},
   "outputs": [
    {
     "name": "stdout",
     "output_type": "stream",
     "text": [
      "Enter runs: 67\n",
      "Enter inning played: 5\n",
      "Enter notout: 12\n",
      "-9.571428571428571\n"
     ]
    }
   ],
   "source": [
    "runs = int(input(\"Enter runs: \"))\n",
    "innings = int(input(\"Enter inning played: \"))\n",
    "notout = int(input(\"Enter notout: \"))\n",
    "avg = runs/(innings-notout)\n",
    "print(avg)"
   ]
  },
  {
   "cell_type": "markdown",
   "id": "484d399f",
   "metadata": {},
   "source": [
    "### Calculate CGPA "
   ]
  },
  {
   "cell_type": "code",
   "execution_count": 2,
   "id": "9628ccb1",
   "metadata": {},
   "outputs": [
    {
     "name": "stdout",
     "output_type": "stream",
     "text": [
      "Marks scored in english: 89\n",
      "Marks scored in maths: 78\n",
      "Marks scored in hindi: 98\n",
      "Marks scored in sst: 90\n",
      "Marks scored in science: 78\n",
      "Your CGPA IS  8.227\n"
     ]
    }
   ],
   "source": [
    "eng = int(input(\"Marks scored in english: \"))\n",
    "maths = int(input(\"Marks scored in maths: \"))\n",
    "hindi = int(input(\"Marks scored in hindi: \"))\n",
    "sst = int(input(\"Marks scored in sst: \"))\n",
    "science = int(input(\"Marks scored in science: \"))\n",
    "CGPA = ((eng+maths+hindi+sst+science)/500)*9.5\n",
    "print(\"Your CGPA IS \",CGPA)"
   ]
  },
  {
   "cell_type": "markdown",
   "id": "30514eb2",
   "metadata": {},
   "source": [
    "### Compound Interest"
   ]
  },
  {
   "cell_type": "code",
   "execution_count": 4,
   "id": "70a555cd",
   "metadata": {},
   "outputs": [
    {
     "name": "stdout",
     "output_type": "stream",
     "text": [
      "Enter principle: 8900\n",
      "Enter time: 10\n",
      "Enter rate: 12\n",
      "Compound Interest:  27642.049054263487\n"
     ]
    }
   ],
   "source": [
    "import math\n",
    "principle = float(input(\"Enter principle: \"))\n",
    "time = float(input(\"Enter time: \"))\n",
    "rate = float(input(\"Enter rate: \"))\n",
    "c_interest = principle*(math.pow((1+rate/100),time))\n",
    "print(\"Compound Interest: \",c_interest)"
   ]
  },
  {
   "cell_type": "markdown",
   "id": "b0f8f1cd",
   "metadata": {},
   "source": [
    "### Sum of N numbers"
   ]
  },
  {
   "cell_type": "code",
   "execution_count": 5,
   "id": "7094519f",
   "metadata": {},
   "outputs": [
    {
     "name": "stdout",
     "output_type": "stream",
     "text": [
      "Enter number of terms: 5\n",
      "Enter any number: 1\n",
      "Enter any number: 2\n",
      "Enter any number: 3\n",
      "Enter any number: 4\n",
      "Enter any number: 5\n",
      "15\n"
     ]
    }
   ],
   "source": [
    "N = int(input(\"Enter number of terms: \"))\n",
    "sum=0\n",
    "while(N!=0):\n",
    "    num = int(input(\"Enter any number: \"))\n",
    "    sum = sum+num\n",
    "    N=N-1\n",
    "print(sum)\n",
    "    "
   ]
  },
  {
   "cell_type": "markdown",
   "id": "ff12768a",
   "metadata": {},
   "source": [
    "### Armstrong Number"
   ]
  },
  {
   "cell_type": "code",
   "execution_count": 20,
   "id": "4b4f1ca7",
   "metadata": {},
   "outputs": [
    {
     "name": "stdout",
     "output_type": "stream",
     "text": [
      "Enter any number: 1\n",
      "1\n",
      "Armstrong number!!\n"
     ]
    }
   ],
   "source": [
    "num = int(input(\"Enter any number: \"))\n",
    "number = num\n",
    "total = 0\n",
    "while(num>0):\n",
    "    temp = num%10\n",
    "    total+= temp**3\n",
    "    num //=10\n",
    "print(total)\n",
    "if(total == number):\n",
    "    print(\"Armstrong number!!\")\n",
    "else:\n",
    "    print(\"Not a Armstrong number\")"
   ]
  },
  {
   "cell_type": "markdown",
   "id": "009f727a",
   "metadata": {},
   "source": [
    "### nCr and nPr"
   ]
  },
  {
   "cell_type": "code",
   "execution_count": 23,
   "id": "119b30a4",
   "metadata": {},
   "outputs": [
    {
     "name": "stdout",
     "output_type": "stream",
     "text": [
      "Enter n: 3\n",
      "Enter r: 4\n",
      "nCr =  144.0\n",
      "nPr =  6.0\n"
     ]
    }
   ],
   "source": [
    "def fact(n):\n",
    "    ans = 1\n",
    "    for i in range(1,n+1):\n",
    "        ans = ans*i\n",
    "    return ans\n",
    "\n",
    "n = int(input(\"Enter n: \"))\n",
    "r = int(input(\"Enter r: \"))\n",
    "nCr = (fact(n))/(fact(n-r))*fact(r)\n",
    "nPr = (fact(n)/fact(n-r))\n",
    "print(\"nCr = \",nCr)\n",
    "print(\"nPr = \",nPr)"
   ]
  },
  {
   "cell_type": "markdown",
   "id": "c4e5a4e6",
   "metadata": {},
   "source": [
    "### Reverse a String"
   ]
  },
  {
   "cell_type": "code",
   "execution_count": 25,
   "id": "63dd9d47",
   "metadata": {},
   "outputs": [
    {
     "name": "stdout",
     "output_type": "stream",
     "text": [
      "Enter any text: hello\n",
      "olleh\n",
      "hello\n"
     ]
    }
   ],
   "source": [
    "txt = input(\"Enter any text: \")\n",
    "print(txt[::-1])"
   ]
  },
  {
   "cell_type": "markdown",
   "id": "727bfa92",
   "metadata": {},
   "source": [
    "### Palindrome Number"
   ]
  },
  {
   "cell_type": "code",
   "execution_count": 31,
   "id": "938f7a3d",
   "metadata": {},
   "outputs": [
    {
     "name": "stdout",
     "output_type": "stream",
     "text": [
      "Enter any number: 12321\n",
      "Palindrome Number!!\n"
     ]
    }
   ],
   "source": [
    "num = int(input(\"Enter any number: \"))\n",
    "original = num\n",
    "rev = 0\n",
    "while(num!=0):\n",
    "    rem = num%10\n",
    "    rev = rev*10 + rem\n",
    "    num//=10\n",
    "if(original == rev):\n",
    "    print(\"Palindrome Number!!\")\n",
    "else:\n",
    "    print(\"Not a Palindrome\")"
   ]
  },
  {
   "cell_type": "markdown",
   "id": "41662136",
   "metadata": {},
   "source": [
    "### HCF of two numbers and then find LCM"
   ]
  },
  {
   "cell_type": "code",
   "execution_count": 35,
   "id": "efd7a4ce",
   "metadata": {},
   "outputs": [
    {
     "name": "stdout",
     "output_type": "stream",
     "text": [
      "Enter number 1: 12\n",
      "Enter number 2: 16\n",
      "GCD:  4\n",
      "LCM:  48.0\n"
     ]
    }
   ],
   "source": [
    "n1 = int(input(\"Enter number 1: \"))\n",
    "n2 = int(input(\"Enter number 2: \"))\n",
    "# n2 should be greater\n",
    "for i in range(1,n1+1):\n",
    "    if(n1%i==0 and n2%i==0):\n",
    "        gcd = i\n",
    "print(\"GCD: \",gcd)\n",
    "\n",
    "lcm = (n1*n2)/gcd\n",
    "print(\"LCM: \",lcm)"
   ]
  },
  {
   "cell_type": "markdown",
   "id": "dd361d3e",
   "metadata": {},
   "source": [
    "### Vowel or Consonant"
   ]
  },
  {
   "cell_type": "code",
   "execution_count": 37,
   "id": "05d365ab",
   "metadata": {},
   "outputs": [
    {
     "name": "stdout",
     "output_type": "stream",
     "text": [
      "Enter any character: e\n",
      "e is a Vowel\n"
     ]
    }
   ],
   "source": [
    "char = input(\"Enter any character: \")\n",
    "if(char == 'a' or char == 'e' or char == 'i' or char == 'o' or char == 'u'):\n",
    "    print(char, \"is a Vowel\")\n",
    "else:\n",
    "    print(char, \"is a Consonant\")"
   ]
  },
  {
   "cell_type": "markdown",
   "id": "a9401294",
   "metadata": {},
   "source": [
    "### Perfect Number or not"
   ]
  },
  {
   "cell_type": "code",
   "execution_count": 39,
   "id": "e43b7344",
   "metadata": {},
   "outputs": [
    {
     "name": "stdout",
     "output_type": "stream",
     "text": [
      "Enter any number: 28\n",
      "Perfect Number\n"
     ]
    }
   ],
   "source": [
    "n = int(input(\"Enter any number: \"))\n",
    "i=1\n",
    "sum=0\n",
    "while(i<=n/2):\n",
    "    if(n%i==0):\n",
    "        sum = sum + i\n",
    "    i=i+1\n",
    "if(sum==n):\n",
    "    print(\"Perfect Number\")\n",
    "else:\n",
    "    print(\"Not a perfect number\")"
   ]
  },
  {
   "cell_type": "markdown",
   "id": "0a3d8b74",
   "metadata": {},
   "source": [
    "### Sum of Digit of a Number"
   ]
  },
  {
   "cell_type": "code",
   "execution_count": 40,
   "id": "883c67b5",
   "metadata": {},
   "outputs": [
    {
     "name": "stdout",
     "output_type": "stream",
     "text": [
      "Enter any number: 123\n",
      "Sum of Digits =  6\n"
     ]
    }
   ],
   "source": [
    "num = int(input(\"Enter any number: \"))\n",
    "n = num\n",
    "sum = 0\n",
    "while(num!=0):\n",
    "    rem = num%10\n",
    "    sum +=rem\n",
    "    num//=10\n",
    "print(\"Sum of Digits = \",sum)"
   ]
  }
 ],
 "metadata": {
  "kernelspec": {
   "display_name": "Python 3",
   "language": "python",
   "name": "python3"
  },
  "language_info": {
   "codemirror_mode": {
    "name": "ipython",
    "version": 3
   },
   "file_extension": ".py",
   "mimetype": "text/x-python",
   "name": "python",
   "nbconvert_exporter": "python",
   "pygments_lexer": "ipython3",
   "version": "3.8.8"
  }
 },
 "nbformat": 4,
 "nbformat_minor": 5
}
