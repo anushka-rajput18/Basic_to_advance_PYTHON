{
 "cells": [
  {
   "cell_type": "markdown",
   "id": "0d5dde89",
   "metadata": {},
   "source": [
    "### Input a year and find whether it is a leap year or not."
   ]
  },
  {
   "cell_type": "code",
   "execution_count": 2,
   "id": "e007a2b6",
   "metadata": {},
   "outputs": [
    {
     "name": "stdout",
     "output_type": "stream",
     "text": [
      "Enter a year: 2000\n",
      "Leap Year\n"
     ]
    }
   ],
   "source": [
    "year = int(input(\"Enter a year: \"))\n",
    "if(((year % 4 == 0) and (year % 100!= 0)) or (year%400 == 0)):\n",
    "    print(\"Leap Year\")\n",
    "else:\n",
    "    print(\"Not a leap year\")"
   ]
  },
  {
   "cell_type": "markdown",
   "id": "4b956df7",
   "metadata": {},
   "source": [
    "### Take two numbers and print the sum of both."
   ]
  },
  {
   "cell_type": "code",
   "execution_count": 9,
   "id": "26d259c6",
   "metadata": {},
   "outputs": [
    {
     "name": "stdout",
     "output_type": "stream",
     "text": [
      "Enter First number: 45\n",
      "Enter Second number: 34\n",
      "Sum is 79\n"
     ]
    }
   ],
   "source": [
    "a = int(input(\"Enter First number: \"))\n",
    "b = int(input(\"Enter Second number: \"))\n",
    "sum = a+b\n",
    "print(\"Sum is\",sum)"
   ]
  },
  {
   "cell_type": "markdown",
   "id": "2f9041ba",
   "metadata": {},
   "source": [
    "### Take a number as input and print the multiplication table for it."
   ]
  },
  {
   "cell_type": "code",
   "execution_count": 10,
   "id": "e941d4a2",
   "metadata": {},
   "outputs": [
    {
     "name": "stdout",
     "output_type": "stream",
     "text": [
      "Enter any number: 5\n",
      "5 X 1 = 5\n",
      "5 X 2 = 10\n",
      "5 X 3 = 15\n",
      "5 X 4 = 20\n",
      "5 X 5 = 25\n",
      "5 X 6 = 30\n",
      "5 X 7 = 35\n",
      "5 X 8 = 40\n",
      "5 X 9 = 45\n",
      "5 X 10 = 50\n"
     ]
    }
   ],
   "source": [
    "num = int(input(\"Enter any number: \"))\n",
    "for i in range(1, 11):\n",
    "    print(num,\"X\",i,\"=\",num*i)"
   ]
  },
  {
   "cell_type": "markdown",
   "id": "1cbe85a2",
   "metadata": {},
   "source": [
    "### Take 2 numbers as inputs and find their HCF and LCM."
   ]
  },
  {
   "cell_type": "code",
   "execution_count": 13,
   "id": "b156b940",
   "metadata": {},
   "outputs": [
    {
     "name": "stdout",
     "output_type": "stream",
     "text": [
      "Enter First Number: 6\n",
      "Enter Second Number: 5\n",
      "HCF is  1\n",
      "LCM is  30.0\n"
     ]
    }
   ],
   "source": [
    "num1 = int(input(\"Enter First Number: \"))\n",
    "num2 = int(input(\"Enter Second Number: \"))\n",
    "temp1 = num1\n",
    "temp2 = num2\n",
    "while(temp2!=0):\n",
    "    temp = temp2\n",
    "    temp2 = temp1%temp2\n",
    "    temp1 = temp\n",
    "\n",
    "hcf = temp1\n",
    "lcm = (num1*num2)/hcf\n",
    "print(\"HCF is \",hcf)\n",
    "print(\"LCM is \",lcm)"
   ]
  }
 ],
 "metadata": {
  "kernelspec": {
   "display_name": "Python 3",
   "language": "python",
   "name": "python3"
  },
  "language_info": {
   "codemirror_mode": {
    "name": "ipython",
    "version": 3
   },
   "file_extension": ".py",
   "mimetype": "text/x-python",
   "name": "python",
   "nbconvert_exporter": "python",
   "pygments_lexer": "ipython3",
   "version": "3.8.8"
  }
 },
 "nbformat": 4,
 "nbformat_minor": 5
}
